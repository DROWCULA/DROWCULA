{
 "cells": [
  {
   "cell_type": "code",
   "execution_count": null,
   "id": "7757f5c1-301e-4dd5-b6db-d79a5eb7825b",
   "metadata": {},
   "outputs": [],
   "source": [
    "import clustering as cl\n",
    "import numpy as np\n",
    "import matplotlib.pyplot as plt\n",
    "import seaborn as sns\n",
    "import umap\n",
    "from sklearn.cluster import KMeans\n",
    "\n",
    "\n",
    "import torch\n",
    "import torch.nn as nn\n",
    "import torchvision\n",
    "import torchvision.transforms as transforms\n",
    "\n",
    "from sklearn.preprocessing import normalize\n",
    "\n",
    "\n",
    "directory = \"\"\n",
    "features = cl.load_features(directory+ \"/cifar10_dino2giant_features.npy\")\n",
    "\n",
    "device = torch.device('cuda' if torch.cuda.is_available() else 'cpu')\n",
    "\n",
    "# CIFAR-10 mean and std (for normalization)\n",
    "mean = [0.4914, 0.4822, 0.4465]  \n",
    "std = [0.2470, 0.2435, 0.2616]  \n",
    "\n",
    "\n",
    "transform = transforms.Compose([\n",
    "    transforms.Resize((224, 224)),  \n",
    "    transforms.ToTensor(),\n",
    "    transforms.Normalize(mean=mean, std=std)\n",
    "])\n",
    "train_dataset = torchvision.datasets.CIFAR10(root= directory + '/data', train=True, download=True, transform=transform)\n",
    "train_labels = np.array(train_dataset.targets)\n",
    "labels = train_labels\n",
    "\n",
    "\n",
    "\n"
   ]
  },
  {
   "cell_type": "code",
   "execution_count": null,
   "id": "7c699f92-fcd8-4d2b-969f-c180705fba78",
   "metadata": {},
   "outputs": [],
   "source": [
    "reducer = umap.UMAP(n_neighbors=10, n_components=3, random_state=42)\n",
    "\n",
    "X_all_norm = normalize(features)  \n",
    "umap_all = reducer.fit_transform(X_all_norm)\n",
    "\n",
    "\n",
    "\n",
    "kmeans_all = KMeans(\n",
    "    n_clusters=10,\n",
    "    n_init=200,\n",
    "    max_iter=10000,\n",
    "    random_state=42\n",
    ").fit(umap_all)\n",
    "y_pred_all = kmeans_all.labels_\n",
    "\n",
    "acc = cl.clustering_accuracy(y_pred_all, labels)\n",
    "cl.ari_nmi(y_pred_all, labels)\n",
    "print(f\"All clustering accuracy: {acc:.4f}\")"
   ]
  },
  {
   "cell_type": "code",
   "execution_count": 7,
   "id": "d8c12cf2-7af1-4b65-ad32-787a6d13c6ba",
   "metadata": {},
   "outputs": [
    {
     "name": "stdout",
     "output_type": "stream",
     "text": [
      "Core (25%) clustering accuracy: 0.9918\n"
     ]
    }
   ],
   "source": [
    "centroids = np.vstack([\n",
    "    umap_all[y_pred_all == i].mean(axis=0)\n",
    "    for i in range(kmeans_all.n_clusters)\n",
    "])\n",
    "\n",
    "dists = np.linalg.norm(umap_all - centroids[y_pred_all], axis=1)\n",
    "\n",
    "core_mask = np.zeros_like(y_pred_all, dtype=bool)\n",
    "for i in range(kmeans_all.n_clusters):\n",
    "    idx_i = np.where(y_pred_all == i)[0]\n",
    "    d_i   = dists[idx_i]\n",
    "    thresh = np.percentile(d_i, 25)     \n",
    "    core_mask[idx_i[d_i <= thresh]] = True\n",
    "\n",
    "core_preds  = y_pred_all[core_mask]\n",
    "core_labels = labels[core_mask]\n",
    "\n",
    "core_acc = cl.clustering_accuracy(core_preds, core_labels)\n",
    "\n",
    "\n",
    "print(f\"Core (25%) clustering accuracy: {core_acc:.4f}\")\n",
    "\n"
   ]
  },
  {
   "cell_type": "code",
   "execution_count": 11,
   "id": "ce19f007-3628-49e1-abcf-0b98f0c5ed13",
   "metadata": {},
   "outputs": [
    {
     "name": "stdout",
     "output_type": "stream",
     "text": [
      "Core (50%) clustering accuracy: 0.9928\n"
     ]
    }
   ],
   "source": [
    "core_mask = np.zeros_like(y_pred_all, dtype=bool)\n",
    "for i in range(kmeans_all.n_clusters):\n",
    "    idx_i = np.where(y_pred_all == i)[0]\n",
    "    d_i   = dists[idx_i]\n",
    "    thresh = np.percentile(d_i, 50)     \n",
    "    core_mask[idx_i[d_i <= thresh]] = True\n",
    "\n",
    "core_preds  = y_pred_all[core_mask]\n",
    "core_labels = labels[core_mask]\n",
    "\n",
    "core_acc = cl.clustering_accuracy(core_preds, core_labels)\n",
    "\n",
    "\n",
    "print(f\"Core (50%) clustering accuracy: {core_acc:.4f}\")\n",
    "\n"
   ]
  },
  {
   "cell_type": "code",
   "execution_count": 9,
   "id": "4ece879c-7d6a-4cc1-b542-009b8cb39766",
   "metadata": {},
   "outputs": [
    {
     "name": "stdout",
     "output_type": "stream",
     "text": [
      "Core (75%) clustering accuracy: 0.9929\n"
     ]
    }
   ],
   "source": [
    "core_mask = np.zeros_like(y_pred_all, dtype=bool)\n",
    "for i in range(kmeans_all.n_clusters):\n",
    "    idx_i = np.where(y_pred_all == i)[0]\n",
    "    d_i   = dists[idx_i]\n",
    "    thresh = np.percentile(d_i, 75)      \n",
    "    core_mask[idx_i[d_i <= thresh]] = True\n",
    "\n",
    "core_preds  = y_pred_all[core_mask]\n",
    "core_labels = labels[core_mask]\n",
    "\n",
    "core_acc = cl.clustering_accuracy(core_preds, core_labels)\n",
    "\n",
    "\n",
    "print(f\"Core (75%) clustering accuracy: {core_acc:.4f}\")\n",
    "\n"
   ]
  },
  {
   "cell_type": "code",
   "execution_count": 10,
   "id": "76001366-4439-445a-892f-64ba9fe71cf9",
   "metadata": {},
   "outputs": [
    {
     "name": "stdout",
     "output_type": "stream",
     "text": [
      "Core (100%) clustering accuracy: 0.9911\n"
     ]
    }
   ],
   "source": [
    "core_mask = np.zeros_like(y_pred_all, dtype=bool)\n",
    "for i in range(kmeans_all.n_clusters):\n",
    "    idx_i = np.where(y_pred_all == i)[0]\n",
    "    d_i   = dists[idx_i]\n",
    "    thresh = np.percentile(d_i, 100)      \n",
    "    core_mask[idx_i[d_i <= thresh]] = True\n",
    "\n",
    "core_preds  = y_pred_all[core_mask]\n",
    "core_labels = labels[core_mask]\n",
    "\n",
    "core_acc = cl.clustering_accuracy(core_preds, core_labels)\n",
    "\n",
    "\n",
    "print(f\"Core (100%) clustering accuracy: {core_acc:.4f}\")\n",
    "\n"
   ]
  },
  {
   "cell_type": "code",
   "execution_count": null,
   "id": "8f586889-8d1d-40e3-bd51-8f644f83a64a",
   "metadata": {},
   "outputs": [],
   "source": []
  }
 ],
 "metadata": {
  "kernelspec": {
   "display_name": "Python 3 (ipykernel)",
   "language": "python",
   "name": "python3"
  },
  "language_info": {
   "codemirror_mode": {
    "name": "ipython",
    "version": 3
   },
   "file_extension": ".py",
   "mimetype": "text/x-python",
   "name": "python",
   "nbconvert_exporter": "python",
   "pygments_lexer": "ipython3",
   "version": "3.12.9"
  }
 },
 "nbformat": 4,
 "nbformat_minor": 5
}
