{
 "cells": [
  {
   "cell_type": "code",
   "execution_count": null,
   "id": "886faa6e-48a2-4198-a291-4702cebad664",
   "metadata": {},
   "outputs": [],
   "source": [
    "import torch\n",
    "import torch.nn as nn\n",
    "import torchvision\n",
    "import torchvision.transforms as transforms\n",
    "from transformers import AutoModel\n",
    "from sklearn.cluster import KMeans\n",
    "from sklearn.metrics import silhouette_score\n",
    "import numpy as np\n",
    "import matplotlib.pyplot as plt\n",
    "\n",
    "device = torch.device('cuda' if torch.cuda.is_available() else 'cpu')\n",
    "\n",
    "# CIFAR-100 mean and std (for normalization)\n",
    "mean = [0.5071, 0.4867, 0.4408]\n",
    "std = [0.2675, 0.2565, 0.2761]\n",
    "\n",
    "\n",
    "transform = transforms.Compose([\n",
    "    transforms.Resize((224, 224)),  \n",
    "    transforms.ToTensor(),\n",
    "    transforms.Normalize(mean=mean, std=std)\n",
    "])\n",
    "\n",
    "train_dataset = torchvision.datasets.CIFAR100(root='./data', train=True, download=True, transform=transform)\n",
    "train_loader = torch.utils.data.DataLoader(train_dataset, batch_size=32, shuffle=False, num_workers=2)\n",
    "\n",
    "model = AutoModel.from_pretrained(\"facebook/dinov2-giant\").to(device).eval()\n",
    "\n",
    "def extract_features(loader, model):\n",
    "    features = []\n",
    "    with torch.no_grad():\n",
    "        for images, _ in loader:\n",
    "            images = images.to(device)\n",
    "            outputs = model(images).last_hidden_state[:, 0, :]  \n",
    "            features.append(outputs.cpu().numpy())\n",
    "    return np.concatenate(features)\n",
    "\n",
    "print(\"starting to extract features\")\n",
    "features100 = extract_features(train_loader, model)\n",
    "print(f\"Extracted features shape: {features100.shape}\") \n",
    "\n"
   ]
  },
  {
   "cell_type": "code",
   "execution_count": null,
   "id": "0062ce97-7565-4fd4-a93a-aa34d87e46c8",
   "metadata": {},
   "outputs": [],
   "source": [
    "\n",
    "\n",
    "def save_features(features, filename=\"features.npy\"):\n",
    "    np.save(filename, features)\n",
    "    print(f\"Features saved to {filename}\")\n",
    "\n",
    "def load_features(filename=\"features.npy\"):\n",
    "    features = np.load(filename)\n",
    "    print(f\"Features loaded from {filename}, shape: {features.shape}\")\n",
    "    return features\n",
    "\n",
    "\n",
    "save_features(features100, \"cifar100_dino2giant_test_features.npy\")\n",
    "\n"
   ]
  }
 ],
 "metadata": {
  "kernelspec": {
   "display_name": "Python 3 (ipykernel)",
   "language": "python",
   "name": "python3"
  },
  "language_info": {
   "codemirror_mode": {
    "name": "ipython",
    "version": 3
   },
   "file_extension": ".py",
   "mimetype": "text/x-python",
   "name": "python",
   "nbconvert_exporter": "python",
   "pygments_lexer": "ipython3",
   "version": "3.12.9"
  }
 },
 "nbformat": 4,
 "nbformat_minor": 5
}
