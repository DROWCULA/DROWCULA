{
 "cells": [
  {
   "cell_type": "code",
   "execution_count": null,
   "id": "54cc5fc7-d1ca-4c11-a6a1-5d23f67ab595",
   "metadata": {},
   "outputs": [],
   "source": [
    "import clustering as cl\n",
    "import numpy as np\n",
    "import matplotlib.pyplot as plt\n",
    "import seaborn as sns\n",
    "import umap\n",
    "from sklearn.cluster import KMeans\n",
    "\n",
    "\n",
    "import torch\n",
    "import torch.nn as nn\n",
    "import torchvision\n",
    "import torchvision.transforms as transforms\n",
    "\n",
    "from sklearn.preprocessing import normalize\n",
    "\n",
    "\n",
    "directory = \"\"\n",
    "features = cl.load_features(directory+ \"/cifar10_dino2giant_features.npy\")\n",
    "\n",
    "device = torch.device('cuda' if torch.cuda.is_available() else 'cpu')\n",
    "\n",
    "# CIFAR-10 mean and std (for normalization)\n",
    "mean = [0.4914, 0.4822, 0.4465]  \n",
    "std = [0.2470, 0.2435, 0.2616]  \n",
    "\n",
    "\n",
    "transform = transforms.Compose([\n",
    "    transforms.Resize((224, 224)),  \n",
    "    transforms.ToTensor(),\n",
    "    transforms.Normalize(mean=mean, std=std)\n",
    "])\n",
    "train_dataset = torchvision.datasets.CIFAR10(root= directory + '/data', train=True, download=True, transform=transform)\n",
    "train_labels = np.array(train_dataset.targets)\n",
    "labels = train_labels\n",
    "\n",
    "\n",
    "\n"
   ]
  },
  {
   "cell_type": "code",
   "execution_count": null,
   "id": "faaeddbd-73f7-4b03-9769-74645d3462f4",
   "metadata": {},
   "outputs": [],
   "source": [
    "reducer = umap.UMAP(n_neighbors=10, n_components=3, random_state=42)\n",
    "\n",
    "normalized_features = normalize(features)  \n",
    "umap_red = reducer.fit_transform(normalized_features)\n",
    "\n",
    "\n",
    "\n",
    "clusters = KMeans(\n",
    "    n_clusters=10,\n",
    "    n_init=200,\n",
    "    max_iter=10000,\n",
    "    random_state=42\n",
    ").fit(umap_red)\n",
    "y_pred = clusters.labels_\n",
    "\n",
    "acc = cl.clustering_accuracy(y_pred, labels)\n",
    "cl.ari_nmi(y_pred, labels)\n",
    "print(f\"All clustering accuracy: {acc:.4f}\")"
   ]
  }
 ],
 "metadata": {
  "kernelspec": {
   "display_name": "Python 3 (ipykernel)",
   "language": "python",
   "name": "python3"
  },
  "language_info": {
   "codemirror_mode": {
    "name": "ipython",
    "version": 3
   },
   "file_extension": ".py",
   "mimetype": "text/x-python",
   "name": "python",
   "nbconvert_exporter": "python",
   "pygments_lexer": "ipython3",
   "version": "3.12.9"
  }
 },
 "nbformat": 4,
 "nbformat_minor": 5
}
